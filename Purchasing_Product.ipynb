{
  "nbformat": 4,
  "nbformat_minor": 0,
  "metadata": {
    "colab": {
      "name": "Purchasing_Product.ipynb",
      "provenance": [],
      "collapsed_sections": []
    },
    "kernelspec": {
      "name": "python3",
      "display_name": "Python 3"
    },
    "language_info": {
      "name": "python"
    }
  },
  "cells": [
    {
      "cell_type": "markdown",
      "metadata": {
        "id": "rbXR6TOByauC"
      },
      "source": [
        "### **Read the Inventory which is already Added**"
      ]
    },
    {
      "cell_type": "code",
      "metadata": {
        "id": "bKy74vJWvYti"
      },
      "source": [
        "import json\n",
        "fd = open(\"record.json\",'r')\n",
        "r = fd.read()\n",
        "fd.close()\n",
        "\n",
        "record = json.loads(r)\n",
        "record"
      ],
      "execution_count": null,
      "outputs": []
    },
    {
      "cell_type": "markdown",
      "metadata": {
        "id": "D6PvNeeAzTSV"
      },
      "source": [
        "### **Purchase of Product**"
      ]
    },
    {
      "cell_type": "code",
      "metadata": {
        "colab": {
          "base_uri": "https://localhost:8080/"
        },
        "id": "P4feEcPTy3V1",
        "outputId": "68527ae8-cfb6-43f0-edcd-b92f5c3abb57"
      },
      "source": [
        "import time\n",
        "t= time.ctime()\n",
        "\n",
        "print('KANGANA |RETAIL STORE\\n')\n",
        "print(\"***********************************************\")\n",
        "ui_prod = str(input(\"\\nEnter the Product ID : \"))\n",
        "ui_quant = int(input(\"Enter the Quantity : \"))\n",
        "\n",
        "print(\"Product Name: \",record[ui_prod]['name'])\n",
        "print(\"Price Per Quantity: Rs.\",record[ui_prod]['pr'])\n",
        "print(\"GST (including SGT & CGT) : 4%\")\n",
        "\n",
        "print(\"\\n***********************************************\")\n",
        "print(\"Billing Amount : Rs.\",record[ui_prod]['pr'] * ui_quant)\n",
        "\n",
        "print(\"\\nTransaction Time :\",t)\n",
        "print(\"\\n\\n\\nxxxxxxxxx\\t No Returns on Friday & Saturday \\t xxxxxxxxxx\")\n",
        "\n",
        "record[ui_prod]['qn'] = record[ui_prod]['qn'] - ui_quant "
      ],
      "execution_count": 31,
      "outputs": [
        {
          "output_type": "stream",
          "name": "stdout",
          "text": [
            "KANGANA |RETAIL STORE\n",
            "\n",
            "***********************************************\n",
            "\n",
            "Enter the Product ID : 1015\n",
            "Enter the Quantity : 5\n",
            "Product Name:  Headphone Speakers\n",
            "Price Per Quantity: Rs. 1500\n",
            "GST (including SGT & CGT) : 4%\n",
            "\n",
            "***********************************************\n",
            "Billing Amount : Rs. 7500\n",
            "\n",
            "Transaction Time : Mon Sep  6 12:35:59 2021\n",
            "\n",
            "\n",
            "\n",
            "xxxxxxxxx\t No Returns on Friday & Saturday \t xxxxxxxxxx\n"
          ]
        }
      ]
    },
    {
      "cell_type": "markdown",
      "metadata": {
        "id": "7ktCy18G0-D4"
      },
      "source": [
        "### **Updation of Inventory After Product Purchase**"
      ]
    },
    {
      "cell_type": "code",
      "metadata": {
        "id": "j6GN453-y3Yz"
      },
      "source": [
        "js = json.dumps(record)\n",
        "\n",
        "fd = open(\"record.json\",'w')\n",
        "fd.write(js)\n",
        "fd.close()\n",
        "record"
      ],
      "execution_count": null,
      "outputs": []
    },
    {
      "cell_type": "markdown",
      "metadata": {
        "id": "ZbjKXs6V1N-e"
      },
      "source": [
        "### **Sales JSON**"
      ]
    },
    {
      "cell_type": "code",
      "metadata": {
        "id": "iOBxjd101Wzo"
      },
      "source": [
        "Transactions = {'Transaction ID': { 10510023601 :{'prod' : ui_prod, 'qn' : ui_quant, 'amount' : record[ui_prod]['pr'] * ui_quant}}}\n",
        "                "
      ],
      "execution_count": 48,
      "outputs": []
    },
    {
      "cell_type": "code",
      "metadata": {
        "id": "7mdVLq1w1W2D",
        "colab": {
          "base_uri": "https://localhost:8080/",
          "height": 35
        },
        "outputId": "82bdcfdb-ee2e-4801-8882-3b32139b0ebd"
      },
      "source": [
        "sales = json.dumps(Transactions)\n",
        "\n",
        "fd = open(\"sales.json\",'w')\n",
        "fd.write(sales)\n",
        "fd.close()\n",
        "sales"
      ],
      "execution_count": 49,
      "outputs": [
        {
          "output_type": "execute_result",
          "data": {
            "application/vnd.google.colaboratory.intrinsic+json": {
              "type": "string"
            },
            "text/plain": [
              "'{\"Transaction ID\": {\"10510023601\": {\"prod\": \"1015\", \"qn\": 5, \"amount\": 7500}}}'"
            ]
          },
          "metadata": {},
          "execution_count": 49
        }
      ]
    }
  ]
}