{
  "nbformat": 4,
  "nbformat_minor": 0,
  "metadata": {
    "colab": {
      "name": "Purchasing Product.ipynb",
      "provenance": [],
      "collapsed_sections": []
    },
    "kernelspec": {
      "name": "python3",
      "display_name": "Python 3"
    },
    "language_info": {
      "name": "python"
    }
  },
  "cells": [
    {
      "cell_type": "markdown",
      "metadata": {
        "id": "rbXR6TOByauC"
      },
      "source": [
        "### **Read the Inventory which is already Added**"
      ]
    },
    {
      "cell_type": "code",
      "metadata": {
        "id": "bKy74vJWvYti"
      },
      "source": [
        "import json\n",
        "fd = open(\"record.json\",'r')\n",
        "r = fd.read()\n",
        "fd.close()\n",
        "\n",
        "record = json.loads(r)"
      ],
      "execution_count": 14,
      "outputs": []
    },
    {
      "cell_type": "code",
      "metadata": {
        "colab": {
          "base_uri": "https://localhost:8080/"
        },
        "id": "cL54EeY_y3RP",
        "outputId": "264c9b60-bf21-4165-cfdd-8a9fc4daadfb"
      },
      "source": [
        "record"
      ],
      "execution_count": 15,
      "outputs": [
        {
          "output_type": "execute_result",
          "data": {
            "text/plain": [
              "{'1001': {'name': 'Choco Cake', 'pr': 100, 'qn': 16},\n",
              " '1002': {'name': 'Milk Cake', 'pr': 800, 'qn': 100},\n",
              " '1003': {'name': 'Drink', 'pr': 85, 'qn': 100},\n",
              " '1004': {'name': 'Candy', 'pr': 5, 'qn': 1000},\n",
              " '1005': {'name': 'Pen', 'pr': 20, 'qn': 100},\n",
              " '1006': {'name': 'Phone', 'pr': 50000, 'qn': 10},\n",
              " '1007': {'name': 'Mic', 'pr': 1500, 'qn': 0},\n",
              " '1008': {'name': 'Case', 'pr': 599, 'qn': 5},\n",
              " '1009': {'name': 'Keyboard', 'pr': 1999, 'qn': 10},\n",
              " '1010': {'name': 'Books', 'pr': 299, 'qn': 50},\n",
              " '1011': {'name': 'Earphones', 'pr': 149, 'qn': 500},\n",
              " '1012': {'name': 'BT Speakers', 'pr': 800, 'qn': 20},\n",
              " '1013': {'name': 'DSLR', 'pr': 45000, 'qn': 10},\n",
              " '1014': {'name': 'Desktops', 'pr': 15000, 'qn': 40},\n",
              " '1015': {'name': 'Headphone Speakers', 'pr': 1500, 'qn': 20},\n",
              " '1016': {'name': 'Mobile Accesores', 'pr': 699, 'qn': 2000},\n",
              " '1017': {'name': 'Mouse', 'pr': 300, 'qn': 100},\n",
              " '1018': {'name': 'UV Glasses', 'pr': 499, 'qn': 10},\n",
              " '1019': {'name': 'Smart Watch', 'pr': 999, 'qn': 5},\n",
              " '1020': {'name': 'Extention Board', 'pr': 400, 'qn': 20},\n",
              " '1021': {'name': 'Data CAbles', 'pr': 199, 'qn': 100},\n",
              " '1022': {'name': 'Type C  CABLE', 'pr': 300, 'qn': 100},\n",
              " '1023': {'name': 'RJ45 Connector', 'pr': 20, 'qn': 200},\n",
              " '1024': {'name': 'Key chain', 'pr': 50, 'qn': 100},\n",
              " '1025': {'name': 'Compact Disc Drives', 'pr': 20, 'qn': 20},\n",
              " '1026': {'name': 'Blue Ray Disk', 'pr': 450, 'qn': 20},\n",
              " '1027': {'name': 'Pendrives', 'pr': 800, 'qn': 100},\n",
              " '1028': {'name': 'Adapter', 'pr': 2999, 'qn': 40},\n",
              " '1029': {'name': 'Laptop', 'pr': 35000, 'qn': 110},\n",
              " '1030': {'name': 'Mother Board', 'pr': 5500, 'qn': 60}}"
            ]
          },
          "metadata": {},
          "execution_count": 15
        }
      ]
    },
    {
      "cell_type": "markdown",
      "metadata": {
        "id": "D6PvNeeAzTSV"
      },
      "source": [
        "### **Purchase of Product**"
      ]
    },
    {
      "cell_type": "code",
      "metadata": {
        "colab": {
          "base_uri": "https://localhost:8080/"
        },
        "id": "P4feEcPTy3V1",
        "outputId": "62f020b9-d244-4da7-9441-bc55a75fdf59"
      },
      "source": [
        "ui_prod = str(input(\"enter the Product ID : \"))\n",
        "ui_quant = int(input(\"enter the quantity : \"))\n",
        "\n",
        "print(\"Product : \",record[ui_prod]['name'])\n",
        "print(\"Price : \",record[ui_prod]['pr'])\n",
        "print(\"Billing Amount : \",record[ui_prod]['pr'] * ui_quant)\n",
        "\n",
        "record[ui_prod]['qn'] = record[ui_prod]['qn'] - ui_quant "
      ],
      "execution_count": 16,
      "outputs": [
        {
          "output_type": "stream",
          "name": "stdout",
          "text": [
            "enter the Product ID : 1030\n",
            "enter the quantity : 20\n",
            "Product :  Mother Board\n",
            "Price :  5500\n",
            "Billing Amount :  110000\n"
          ]
        }
      ]
    },
    {
      "cell_type": "markdown",
      "metadata": {
        "id": "7ktCy18G0-D4"
      },
      "source": [
        "### **Updation of Inventory After Product Purchase**"
      ]
    },
    {
      "cell_type": "code",
      "metadata": {
        "id": "j6GN453-y3Yz"
      },
      "source": [
        "js = json.dumps(record)\n",
        "\n",
        "fd = open(\"record.json\",'w')\n",
        "fd.write(js)\n",
        "fd.close()"
      ],
      "execution_count": 44,
      "outputs": []
    },
    {
      "cell_type": "markdown",
      "metadata": {
        "id": "ZbjKXs6V1N-e"
      },
      "source": [
        "### **Sales JSON**"
      ]
    },
    {
      "cell_type": "code",
      "metadata": {
        "colab": {
          "base_uri": "https://localhost:8080/"
        },
        "id": "7B1csdUVy3bK",
        "outputId": "1a8210ae-ae11-4d1c-dd5c-ffc4c72378db"
      },
      "source": [
        "{'prod' : ui_prod, 'qn' : ui_quant, 'amount' : record[ui_prod]['pr'] * ui_quant}"
      ],
      "execution_count": 28,
      "outputs": [
        {
          "output_type": "execute_result",
          "data": {
            "text/plain": [
              "{'amount': 110000, 'prod': '1030', 'qn': 20}"
            ]
          },
          "metadata": {},
          "execution_count": 28
        }
      ]
    },
    {
      "cell_type": "code",
      "metadata": {
        "id": "iOBxjd101Wzo"
      },
      "source": [
        "sales = {1 : {'prod' : ui_prod, 'qn' : ui_quant, 'amount' : record[ui_prod]['pr'] * ui_quant},\n",
        "         2 : {'prod' : ui_prod, 'qn' : ui_quant, 'amount' : record[ui_prod]['pr'] * ui_quant},\n",
        "         3 : {'prod' : ui_prod, 'qn' : ui_quant, 'amount' : record[ui_prod]['pr'] * ui_quant},\n",
        "         4 : {'prod' : ui_prod, 'qn' : ui_quant, 'amount' : record[ui_prod]['pr'] * ui_quant},\n",
        "         5 : {'prod' : ui_prod, 'qn' : ui_quant, 'amount' : record[ui_prod]['pr'] * ui_quant},\n",
        "         5 : {'prod' : ui_prod, 'qn' : ui_quant, 'amount' : record[ui_prod]['pr'] * ui_quant},\n",
        "         6 : {'prod' : ui_prod, 'qn' : ui_quant, 'amount' : record[ui_prod]['pr'] * ui_quant},\n",
        "         7 : {'prod' : ui_prod, 'qn' : ui_quant, 'amount' : record[ui_prod]['pr'] * ui_quant},\n",
        "         8 : {'prod' : ui_prod, 'qn' : ui_quant, 'amount' : record[ui_prod]['pr'] * ui_quant},\n",
        "         9 : {'prod' : ui_prod, 'qn' : ui_quant, 'amount' : record[ui_prod]['pr'] * ui_quant},\n",
        "         10 : {'prod' : ui_prod, 'qn' : ui_quant, 'amount' : record[ui_prod]['pr'] * ui_quant}}"
      ],
      "execution_count": 62,
      "outputs": []
    },
    {
      "cell_type": "code",
      "metadata": {
        "id": "7mdVLq1w1W2D"
      },
      "source": [
        "sale = json.dumps(sales)\n",
        "\n",
        "fd = open(\"sale.json\",'w')\n",
        "fd.write(sale)\n",
        "fd.close()"
      ],
      "execution_count": 64,
      "outputs": []
    },
    {
      "cell_type": "code",
      "metadata": {
        "colab": {
          "base_uri": "https://localhost:8080/",
          "height": 86
        },
        "id": "Oa7qFYyN9w0p",
        "outputId": "4ae3b0c3-35de-4ba0-999e-422eab832aee"
      },
      "source": [
        "sale"
      ],
      "execution_count": 65,
      "outputs": [
        {
          "output_type": "execute_result",
          "data": {
            "application/vnd.google.colaboratory.intrinsic+json": {
              "type": "string"
            },
            "text/plain": [
              "'{\"1\": {\"prod\": \"1030\", \"qn\": 20, \"amount\": 110000}, \"2\": {\"prod\": \"1030\", \"qn\": 20, \"amount\": 110000}, \"3\": {\"prod\": \"1030\", \"qn\": 20, \"amount\": 110000}, \"4\": {\"prod\": \"1030\", \"qn\": 20, \"amount\": 110000}, \"5\": {\"prod\": \"1030\", \"qn\": 20, \"amount\": 110000}, \"6\": {\"prod\": \"1030\", \"qn\": 20, \"amount\": 110000}, \"7\": {\"prod\": \"1030\", \"qn\": 20, \"amount\": 110000}, \"8\": {\"prod\": \"1030\", \"qn\": 20, \"amount\": 110000}, \"9\": {\"prod\": \"1030\", \"qn\": 20, \"amount\": 110000}, \"10\": {\"prod\": \"1030\", \"qn\": 20, \"amount\": 110000}}'"
            ]
          },
          "metadata": {},
          "execution_count": 65
        }
      ]
    },
    {
      "cell_type": "code",
      "metadata": {
        "id": "vN4PxDr_-Ati"
      },
      "source": [
        ""
      ],
      "execution_count": null,
      "outputs": []
    }
  ]
}