{
  "nbformat": 4,
  "nbformat_minor": 0,
  "metadata": {
    "colab": {
      "name": "Adding New Product.ipynb",
      "provenance": [],
      "collapsed_sections": []
    },
    "kernelspec": {
      "name": "python3",
      "display_name": "Python 3"
    },
    "language_info": {
      "name": "python"
    }
  },
  "cells": [
    {
      "cell_type": "markdown",
      "metadata": {
        "id": "hHK4b4EiwVfb"
      },
      "source": [
        "### **Read Data from JSON**"
      ]
    },
    {
      "cell_type": "code",
      "metadata": {
        "id": "y3OvIc-BuKND"
      },
      "source": [
        "import json\n",
        "fd = open(\"record.json\",'r')\n",
        "r = fd.read()\n",
        "fd.close()\n",
        "\n",
        "record = json.loads(r)\n"
      ],
      "execution_count": 3,
      "outputs": []
    },
    {
      "cell_type": "code",
      "metadata": {
        "colab": {
          "base_uri": "https://localhost:8080/"
        },
        "id": "rX5ekxVYwlLs",
        "outputId": "3e6f5890-da28-4246-fd81-3f43d1bef3fe"
      },
      "source": [
        "record"
      ],
      "execution_count": 5,
      "outputs": [
        {
          "output_type": "execute_result",
          "data": {
            "text/plain": [
              "{'1001': {'name': 'Choco Cake', 'pr': 100, 'qn': 34},\n",
              " '1002': {'name': 'Milk Cake', 'pr': 800, 'qn': 100},\n",
              " '1003': {'name': 'Drink', 'pr': 85, 'qn': 100},\n",
              " '1004': {'name': 'Candy', 'pr': 5, 'qn': 1000},\n",
              " '1005': {'name': 'Pen', 'pr': 20, 'qn': 100},\n",
              " '1006': {'name': 'Phone', 'pr': 50000, 'qn': 10},\n",
              " '1007': {'name': 'Mic', 'pr': 1500, 'qn': 0},\n",
              " '1008': {'name': 'Case', 'pr': 599, 'qn': 5},\n",
              " '1009': {'name': 'Keyboard', 'pr': 1999, 'qn': 10}}"
            ]
          },
          "metadata": {},
          "execution_count": 5
        }
      ]
    },
    {
      "cell_type": "markdown",
      "metadata": {
        "id": "FKxe47shxHOh"
      },
      "source": [
        "### **Add New Item into Inventory**"
      ]
    },
    {
      "cell_type": "code",
      "metadata": {
        "colab": {
          "base_uri": "https://localhost:8080/"
        },
        "id": "uUWe7Z7Vw5XM",
        "outputId": "6897f759-8a16-4311-ffb3-3b06bd63dc57"
      },
      "source": [
        "prod_id = str(input(\"Enter the Product ID :\"))\n",
        "name = str(input(\"Enter the Name :\"))\n",
        "pr = int(input(\"Enter the Price :\"))\n",
        "qn = int(input(\"Enter the Quantity :\"))\n",
        "\n",
        "record[prod_id] = {'name': name, 'pr': pr, 'qn': qn}\n",
        "\n",
        "js = json.dumps(record)\n",
        "\n",
        "fd = open(\"record.json\",'w')\n",
        "fd.write(js)\n",
        "fd.close()"
      ],
      "execution_count": 36,
      "outputs": [
        {
          "name": "stdout",
          "output_type": "stream",
          "text": [
            "Enter the Product ID :1030\n",
            "Enter the Name :Mother Board\n",
            "Enter the Price :5500\n",
            "Enter the Quantity :60\n"
          ]
        }
      ]
    },
    {
      "cell_type": "code",
      "metadata": {
        "colab": {
          "base_uri": "https://localhost:8080/"
        },
        "id": "BL0jMy_nxipL",
        "outputId": "d4860425-5fee-4829-90ee-621dc1c0d383"
      },
      "source": [
        "record"
      ],
      "execution_count": 37,
      "outputs": [
        {
          "output_type": "execute_result",
          "data": {
            "text/plain": [
              "{'1001': {'name': 'Choco Cake', 'pr': 100, 'qn': 16},\n",
              " '1002': {'name': 'Milk Cake', 'pr': 800, 'qn': 100},\n",
              " '1003': {'name': 'Drink', 'pr': 85, 'qn': 100},\n",
              " '1004': {'name': 'Candy', 'pr': 5, 'qn': 1000},\n",
              " '1005': {'name': 'Pen', 'pr': 20, 'qn': 100},\n",
              " '1006': {'name': 'Phone', 'pr': 50000, 'qn': 10},\n",
              " '1007': {'name': 'Mic', 'pr': 1500, 'qn': 0},\n",
              " '1008': {'name': 'Case', 'pr': 599, 'qn': 5},\n",
              " '1009': {'name': 'Keyboard', 'pr': 1999, 'qn': 10},\n",
              " '1010': {'name': 'Books', 'pr': 299, 'qn': 50},\n",
              " '1011': {'name': 'Earphones', 'pr': 149, 'qn': 500},\n",
              " '1012': {'name': 'BT Speakers', 'pr': 800, 'qn': 20},\n",
              " '1013': {'name': 'DSLR', 'pr': 45000, 'qn': 10},\n",
              " '1014': {'name': 'Desktops', 'pr': 15000, 'qn': 40},\n",
              " '1015': {'name': 'Headphone Speakers', 'pr': 1500, 'qn': 20},\n",
              " '1016': {'name': 'Mobile Accesores', 'pr': 699, 'qn': 2000},\n",
              " '1017': {'name': 'Mouse', 'pr': 300, 'qn': 100},\n",
              " '1018': {'name': 'UV Glasses', 'pr': 499, 'qn': 10},\n",
              " '1019': {'name': 'Smart Watch', 'pr': 999, 'qn': 5},\n",
              " '1020': {'name': 'Extention Board', 'pr': 400, 'qn': 20},\n",
              " '1021': {'name': 'Data CAbles', 'pr': 199, 'qn': 100},\n",
              " '1022': {'name': 'Type C  CABLE', 'pr': 300, 'qn': 100},\n",
              " '1023': {'name': 'RJ45 Connector', 'pr': 20, 'qn': 200},\n",
              " '1024': {'name': 'Key chain', 'pr': 50, 'qn': 100},\n",
              " '1025': {'name': 'Compact Disc Drives', 'pr': 20, 'qn': 20},\n",
              " '1026': {'name': 'Blue Ray Disk', 'pr': 450, 'qn': 20},\n",
              " '1027': {'name': 'Pendrives', 'pr': 800, 'qn': 100},\n",
              " '1028': {'name': 'Adapter', 'pr': 2999, 'qn': 40},\n",
              " '1029': {'name': 'Laptop', 'pr': 35000, 'qn': 110},\n",
              " '1030': {'name': 'Mother Board', 'pr': 5500, 'qn': 60}}"
            ]
          },
          "metadata": {},
          "execution_count": 37
        }
      ]
    },
    {
      "cell_type": "code",
      "metadata": {
        "id": "0BW_S6gGxjns"
      },
      "source": [
        ""
      ],
      "execution_count": null,
      "outputs": []
    }
  ]
}